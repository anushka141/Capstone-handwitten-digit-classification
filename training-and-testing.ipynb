{
 "cells": [
  {
   "cell_type": "code",
   "execution_count": 2,
   "id": "bb0e1f9b",
   "metadata": {},
   "outputs": [],
   "source": [
    "import tensorflow as tf"
   ]
  },
  {
   "cell_type": "markdown",
   "id": "a089c668",
   "metadata": {},
   "source": [
    "## Tensorflow already contain MNIST dataset which can be loaded using keras\n",
    "### It contains 60,000 training samples and 10,000 testing samples\n"
   ]
  },
  {
   "cell_type": "code",
   "execution_count": 3,
   "id": "42fb2c57",
   "metadata": {},
   "outputs": [],
   "source": [
    "mnist = tf.keras.datasets.mnist"
   ]
  },
  {
   "cell_type": "markdown",
   "id": "7142ac19",
   "metadata": {},
   "source": [
    "## Now divide training and testing datasets"
   ]
  },
  {
   "cell_type": "code",
   "execution_count": 4,
   "id": "87af5ca1",
   "metadata": {},
   "outputs": [
    {
     "name": "stdout",
     "output_type": "stream",
     "text": [
      "Downloading data from https://storage.googleapis.com/tensorflow/tf-keras-datasets/mnist.npz\n",
      "11493376/11490434 [==============================] - 35s 3us/step\n"
     ]
    }
   ],
   "source": [
    "(a_train, b_train),(a_test,b_test)=mnist.load_data()"
   ]
  },
  {
   "cell_type": "code",
   "execution_count": 6,
   "id": "6a5d74db",
   "metadata": {},
   "outputs": [],
   "source": [
    "import matplotlib.pyplot as plt"
   ]
  },
  {
   "cell_type": "code",
   "execution_count": 7,
   "id": "4be6426f",
   "metadata": {},
   "outputs": [
    {
     "data": {
      "text/plain": [
       "<matplotlib.image.AxesImage at 0x15905d12dc0>"
      ]
     },
     "execution_count": 7,
     "metadata": {},
     "output_type": "execute_result"
    },
    {
     "data": {
      "image/png": "[encoded data removed]",
      "text/plain": [
       "<Figure size 432x288 with 1 Axes>"
      ]
     },
     "metadata": {
      "needs_background": "light"
     },
     "output_type": "display_data"
    }
   ],
   "source": [
    "plt.imshow(a_train[50])"
   ]
  },
  {
   "cell_type": "markdown",
   "id": "b7e024f3",
   "metadata": {},
   "source": [
    "## Before normalizing"
   ]
  },
  {
   "cell_type": "code",
   "execution_count": 8,
   "id": "7c08d310",
   "metadata": {},
   "outputs": [
    {
     "name": "stdout",
     "output_type": "stream",
     "text": [
      "[[  0   0   0   0   0   0   0   0   0   0   0   0   0   0   0   0   0   0\n",
      "    0   0   0   0   0   0   0   0   0   0]\n",
      " [  0   0   0   0   0   0   0   0   0   0   0   0   0   0   0   0   0   0\n",
      "    0   0   0   0   0   0   0   0   0   0]\n",
      " [  0   0   0   0   0   0   0   0   0   0   0   0   0   0   0   0   0   0\n",
      "    0   0   0   0   0   0   0   0   0   0]\n",
      " [  0   0   0   0   0   0   0   0   0   0   0   0   0   0   0   0   0   0\n",
      "    0   0   0   0   0   0   0   0   0   0]\n",
      " [  0   0   0   0   0   0   0   0   0   0  12  56 140 126 175 200  96   2\n",
      "    0   0   0   0   0   0   0   0   0   0]\n",
      " [  0   0   0   0   0   0   0   0  35 166 238 254 246 242 253 246 254  67\n",
      "    0   0   0   0   0   0   0   0   0   0]\n",
      " [  0   0   0   0   0   0   0   0 184 182 146 127  70  30  45  36 215 175\n",
      "    0   0   0   0   0   0   0   0   0   0]\n",
      " [  0   0   0   0   0   0   0   0  30   0   0   0   0   0   0   0 207 246\n",
      "   14   0   0   0   0   0   0   0   0   0]\n",
      " [  0   0   0   0   0   0   0   0   0   0   0   0   0   0   0  55 251 169\n",
      "    1   0   0   0   0   0   0   0   0   0]\n",
      " [  0   0   0   0   0   0   0   0   0   0   0   0   0   0  11 215 232  20\n",
      "    0   0   0   0   0   0   0   0   0   0]\n",
      " [  0   0   0   0   0   0   0   0   0   0   0   0   0  20 190 250  61   0\n",
      "    0   0   0   0   0   0   0   0   0   0]\n",
      " [  0   0   0   0   0   0   0   0   0   0   0  24 118 206 254 248 142 108\n",
      "   18   0   0   0   0   0   0   0   0   0]\n",
      " [  0   0   0   0   0   0   0   0   0   0  63 223 254 254 254 254 254 254\n",
      "  209   0   0   0   0   0   0   0   0   0]\n",
      " [  0   0   0   0   0   0   0   0   0   0  52 174 129  95  16  16  16 106\n",
      "  249 125   0   0   0   0   0   0   0   0]\n",
      " [  0   0   0   0   0   0   0   0   0   0   0   0   0   0   0   0   0   0\n",
      "  179 239   0   0   0   0   0   0   0   0]\n",
      " [  0   0   0   0   0   0   0   0   0   0   0   0   0   0   0   0   0   0\n",
      "   80 239   0   0   0   0   0   0   0   0]\n",
      " [  0   0   0   0   0   0   0   0   0   0   0   0   0   0   0   0   0   0\n",
      "   80 244  20   0   0   0   0   0   0   0]\n",
      " [  0   0   0   0   0   0   0   0   0   0   0   0   0   0   0   0   0   0\n",
      "  100 239   0   0   0   0   0   0   0   0]\n",
      " [  0   0   0   0   0   0   0   0   0   0   0   0   0   0   0   0   0   0\n",
      "  234 239   0   0   0   0   0   0   0   0]\n",
      " [  0   0   0   0   0   0   0   4 140   5   0   0   0   0   0   0   3 150\n",
      "  254 129   0   0   0   0   0   0   0   0]\n",
      " [  0   0   0   0   0   0   0  64 254 181  38   0   0   0   0  34 188 254\n",
      "  209  20   0   0   0   0   0   0   0   0]\n",
      " [  0   0   0   0   0   0   0  12 226 255 223  88  68 128 157 242 254 207\n",
      "   23   0   0   0   0   0   0   0   0   0]\n",
      " [  0   0   0   0   0   0   0   0  45 210 254 254 254 254 255 254 187  49\n",
      "    0   0   0   0   0   0   0   0   0   0]\n",
      " [  0   0   0   0   0   0   0   0   0  41 129 239 229 179  91  16   3   0\n",
      "    0   0   0   0   0   0   0   0   0   0]\n",
      " [  0   0   0   0   0   0   0   0   0   0   0   0   0   0   0   0   0   0\n",
      "    0   0   0   0   0   0   0   0   0   0]\n",
      " [  0   0   0   0   0   0   0   0   0   0   0   0   0   0   0   0   0   0\n",
      "    0   0   0   0   0   0   0   0   0   0]\n",
      " [  0   0   0   0   0   0   0   0   0   0   0   0   0   0   0   0   0   0\n",
      "    0   0   0   0   0   0   0   0   0   0]\n",
      " [  0   0   0   0   0   0   0   0   0   0   0   0   0   0   0   0   0   0\n",
      "    0   0   0   0   0   0   0   0   0   0]]\n"
     ]
    }
   ],
   "source": [
    " print(a_train[50])"
   ]
  },
  {
   "cell_type": "markdown",
   "id": "1c2f51ab",
   "metadata": {},
   "source": [
    "## Normalizing the data"
   ]
  },
  {
   "cell_type": "code",
   "execution_count": 9,
   "id": "e3edffa2",
   "metadata": {},
   "outputs": [
    {
     "data": {
      "text/plain": [
       "<matplotlib.image.AxesImage at 0x15952133eb0>"
      ]
     },
     "execution_count": 9,
     "metadata": {},
     "output_type": "execute_result"
    },
    {
     "data": {
      "image/png": "[encoded data removed]",
      "text/plain": [
       "<Figure size 432x288 with 1 Axes>"
      ]
     },
     "metadata": {
      "needs_background": "light"
     },
     "output_type": "display_data"
    }
   ],
   "source": [
    "a_train = tf.keras.utils.normalize(a_train, axis=1)\n",
    "a_test = tf.keras.utils.normalize(a_test, axis=1)\n",
    "plt.imshow(a_train[50],cmap = plt.cm.binary)"
   ]
  },
  {
   "cell_type": "markdown",
   "id": "56cf859a",
   "metadata": {},
   "source": [
    "## After Normalizing"
   ]
  },
  {
   "cell_type": "code",
   "execution_count": 10,
   "id": "228ae5f1",
   "metadata": {},
   "outputs": [
    {
     "name": "stdout",
     "output_type": "stream",
     "text": [
      "[[0.         0.         0.         0.         0.         0.\n",
      "  0.         0.         0.         0.         0.         0.\n",
      "  0.         0.         0.         0.         0.         0.\n",
      "  0.         0.         0.         0.         0.         0.\n",
      "  0.         0.         0.         0.        ]\n",
      " [0.         0.         0.         0.         0.         0.\n",
      "  0.         0.         0.         0.         0.         0.\n",
      "  0.         0.         0.         0.         0.         0.\n",
      "  0.         0.         0.         0.         0.         0.\n",
      "  0.         0.         0.         0.        ]\n",
      " [0.         0.         0.         0.         0.         0.\n",
      "  0.         0.         0.         0.         0.         0.\n",
      "  0.         0.         0.         0.         0.         0.\n",
      "  0.         0.         0.         0.         0.         0.\n",
      "  0.         0.         0.         0.        ]\n",
      " [0.         0.         0.         0.         0.         0.\n",
      "  0.         0.         0.         0.         0.         0.\n",
      "  0.         0.         0.         0.         0.         0.\n",
      "  0.         0.         0.         0.         0.         0.\n",
      "  0.         0.         0.         0.        ]\n",
      " [0.         0.         0.         0.         0.         0.\n",
      "  0.         0.         0.         0.         0.02575398 0.10332473\n",
      "  0.25489201 0.2282781  0.29161685 0.29350576 0.13534087 0.0034086\n",
      "  0.         0.         0.         0.         0.         0.\n",
      "  0.         0.         0.         0.        ]\n",
      " [0.         0.         0.         0.         0.         0.\n",
      "  0.         0.         0.08410012 0.3672854  0.51078725 0.46865144\n",
      "  0.44788167 0.43843889 0.42159465 0.36101208 0.35808939 0.11418809\n",
      "  0.         0.         0.         0.         0.         0.\n",
      "  0.         0.         0.         0.        ]\n",
      " [0.         0.         0.         0.         0.         0.\n",
      "  0.         0.         0.44212634 0.4026864  0.31334007 0.23432572\n",
      "  0.127446   0.05435193 0.07498719 0.05283104 0.30310716 0.29825247\n",
      "  0.         0.         0.         0.         0.         0.\n",
      "  0.         0.         0.         0.        ]\n",
      " [0.         0.         0.         0.         0.         0.\n",
      "  0.         0.         0.07208582 0.         0.         0.\n",
      "  0.         0.         0.         0.         0.29182875 0.41925775\n",
      "  0.02457555 0.         0.         0.         0.         0.\n",
      "  0.         0.         0.         0.        ]\n",
      " [0.         0.         0.         0.         0.         0.\n",
      "  0.         0.         0.         0.         0.         0.\n",
      "  0.         0.         0.         0.08071408 0.35385999 0.28802667\n",
      "  0.0017554  0.         0.         0.         0.         0.\n",
      "  0.         0.         0.         0.        ]\n",
      " [0.         0.         0.         0.         0.         0.\n",
      "  0.         0.         0.         0.         0.         0.\n",
      "  0.         0.         0.0183302  0.31551869 0.32707377 0.034086\n",
      "  0.         0.         0.         0.         0.         0.\n",
      "  0.         0.         0.         0.        ]\n",
      " [0.         0.         0.         0.         0.         0.\n",
      "  0.         0.         0.         0.         0.         0.\n",
      "  0.         0.03623462 0.31661258 0.3668822  0.08599785 0.\n",
      "  0.         0.         0.         0.         0.         0.\n",
      "  0.         0.         0.         0.        ]\n",
      " [0.         0.         0.         0.         0.         0.\n",
      "  0.         0.         0.         0.         0.         0.04428203\n",
      "  0.21483755 0.37321658 0.42326103 0.36394714 0.20019171 0.18406438\n",
      "  0.03159714 0.         0.         0.         0.         0.\n",
      "  0.         0.         0.         0.        ]\n",
      " [0.         0.         0.         0.         0.         0.\n",
      "  0.         0.         0.         0.         0.13520839 0.41145382\n",
      "  0.46244693 0.46017966 0.42326103 0.37275231 0.35808939 0.43289215\n",
      "  0.36687789 0.         0.         0.         0.         0.\n",
      "  0.         0.         0.         0.        ]\n",
      " [0.         0.         0.         0.         0.         0.\n",
      "  0.         0.         0.         0.         0.11160057 0.32104469\n",
      "  0.23486478 0.17211444 0.02666211 0.02348046 0.02255681 0.18065578\n",
      "  0.43709375 0.2207344  0.         0.         0.         0.\n",
      "  0.         0.         0.         0.        ]\n",
      " [0.         0.         0.         0.         0.         0.\n",
      "  0.         0.         0.         0.         0.         0.\n",
      "  0.         0.         0.         0.         0.         0.\n",
      "  0.31421599 0.42204417 0.         0.         0.         0.\n",
      "  0.         0.         0.         0.        ]\n",
      " [0.         0.         0.         0.         0.         0.\n",
      "  0.         0.         0.         0.         0.         0.\n",
      "  0.         0.         0.         0.         0.         0.\n",
      "  0.14043173 0.42204417 0.         0.         0.         0.\n",
      "  0.         0.         0.         0.        ]\n",
      " [0.         0.         0.         0.         0.         0.\n",
      "  0.         0.         0.         0.         0.         0.\n",
      "  0.         0.         0.         0.         0.         0.\n",
      "  0.14043173 0.43087354 1.         0.         0.         0.\n",
      "  0.         0.         0.         0.        ]\n",
      " [0.         0.         0.         0.         0.         0.\n",
      "  0.         0.         0.         0.         0.         0.\n",
      "  0.         0.         0.         0.         0.         0.\n",
      "  0.17553966 0.42204417 0.         0.         0.         0.\n",
      "  0.         0.         0.         0.        ]\n",
      " [0.         0.         0.         0.         0.         0.\n",
      "  0.         0.         0.         0.         0.         0.\n",
      "  0.         0.         0.         0.         0.         0.\n",
      "  0.4107628  0.42204417 0.         0.         0.         0.\n",
      "  0.         0.         0.         0.        ]\n",
      " [0.         0.         0.         0.         0.         0.\n",
      "  0.         0.06131393 0.33640047 0.01106281 0.         0.\n",
      "  0.         0.         0.         0.         0.0042294  0.25564497\n",
      "  0.44587074 0.2277979  0.         0.         0.         0.\n",
      "  0.         0.         0.         0.        ]\n",
      " [0.         0.         0.         0.         0.         0.\n",
      "  0.         0.98102294 0.61032657 0.40047384 0.08155427 0.\n",
      "  0.         0.         0.         0.04989598 0.26504254 0.43289215\n",
      "  0.36687789 0.0353175  0.         0.         0.         0.\n",
      "  0.         0.         0.         0.        ]\n",
      " [0.         0.         0.         0.         0.         0.\n",
      "  0.         0.1839418  0.54304648 0.56420348 0.47859477 0.16236743\n",
      "  0.12380469 0.23190156 0.26162198 0.35514197 0.35808939 0.35279006\n",
      "  0.04037412 0.         0.         0.         0.         0.\n",
      "  0.         0.         0.         0.        ]\n",
      " [0.         0.         0.         0.         0.         0.\n",
      "  0.         0.         0.10812872 0.46463816 0.54512588 0.46865144\n",
      "  0.46244693 0.46017966 0.42492741 0.37275231 0.26363274 0.08351069\n",
      "  0.         0.         0.         0.         0.         0.\n",
      "  0.         0.         0.         0.        ]\n",
      " [0.         0.         0.         0.         0.         0.\n",
      "  0.         0.         0.         0.09071507 0.27685527 0.44097517\n",
      "  0.4169305  0.32429984 0.15164076 0.02348046 0.0042294  0.\n",
      "  0.         0.         0.         0.         0.         0.\n",
      "  0.         0.         0.         0.        ]\n",
      " [0.         0.         0.         0.         0.         0.\n",
      "  0.         0.         0.         0.         0.         0.\n",
      "  0.         0.         0.         0.         0.         0.\n",
      "  0.         0.         0.         0.         0.         0.\n",
      "  0.         0.         0.         0.        ]\n",
      " [0.         0.         0.         0.         0.         0.\n",
      "  0.         0.         0.         0.         0.         0.\n",
      "  0.         0.         0.         0.         0.         0.\n",
      "  0.         0.         0.         0.         0.         0.\n",
      "  0.         0.         0.         0.        ]\n",
      " [0.         0.         0.         0.         0.         0.\n",
      "  0.         0.         0.         0.         0.         0.\n",
      "  0.         0.         0.         0.         0.         0.\n",
      "  0.         0.         0.         0.         0.         0.\n",
      "  0.         0.         0.         0.        ]\n",
      " [0.         0.         0.         0.         0.         0.\n",
      "  0.         0.         0.         0.         0.         0.\n",
      "  0.         0.         0.         0.         0.         0.\n",
      "  0.         0.         0.         0.         0.         0.\n",
      "  0.         0.         0.         0.        ]]\n"
     ]
    }
   ],
   "source": [
    "print(a_train[50])"
   ]
  },
  {
   "cell_type": "markdown",
   "id": "76750cbf",
   "metadata": {},
   "source": [
    "### Normalizing is important as if the color changes we do not need to care about it"
   ]
  },
  {
   "cell_type": "code",
   "execution_count": 11,
   "id": "3860fb73",
   "metadata": {},
   "outputs": [
    {
     "name": "stdout",
     "output_type": "stream",
     "text": [
      "3\n"
     ]
    }
   ],
   "source": [
    "print(b_train[50]) # b contains labels"
   ]
  },
  {
   "cell_type": "markdown",
   "id": "c9fd663d",
   "metadata": {},
   "source": [
    "#  Resizing image"
   ]
  },
  {
   "cell_type": "code",
   "execution_count": 12,
   "id": "18b5bae7",
   "metadata": {},
   "outputs": [],
   "source": [
    "import numpy as np"
   ]
  },
  {
   "cell_type": "code",
   "execution_count": 43,
   "id": "12db5eaa",
   "metadata": {},
   "outputs": [
    {
     "name": "stdout",
     "output_type": "stream",
     "text": [
      "training sample dimensions (60000, 28, 28, 1)\n",
      "testing sample dimensions (10000, 28, 28, 1)\n"
     ]
    }
   ],
   "source": [
    "img_size=28\n",
    "a_trainer=np.array(a_train).reshape(-1,img_size,img_size,1)\n",
    "a_tester=np.array(a_test).reshape(-1,img_size,img_size,1)\n",
    "print(\"training sample dimensions\",a_trainer.shape)\n",
    "print(\"testing sample dimensions\",a_tester.shape)"
   ]
  },
  {
   "cell_type": "markdown",
   "id": "13bb4483",
   "metadata": {},
   "source": [
    "# Training on 60,000 samples of MNIST dataset"
   ]
  },
  {
   "cell_type": "code",
   "execution_count": 23,
   "id": "7ca3fbcb",
   "metadata": {
    "scrolled": false
   },
   "outputs": [],
   "source": [
    "from tensorflow.keras.models import Sequential\n",
    "from tensorflow.keras.layers import Dense, Dropout, Activation , Flatten,Conv2D, MaxPooling2D"
   ]
  },
  {
   "cell_type": "markdown",
   "id": "9af969bd",
   "metadata": {},
   "source": [
    "### creating neural network"
   ]
  },
  {
   "cell_type": "code",
   "execution_count": 24,
   "id": "7ba65f13",
   "metadata": {},
   "outputs": [],
   "source": [
    "model= Sequential()"
   ]
  },
  {
   "cell_type": "code",
   "execution_count": 25,
   "id": "0d160344",
   "metadata": {},
   "outputs": [],
   "source": [
    "## First convolution layer\n",
    "model.add(Conv2D(64,(3, 3),input_shape = a_trainer.shape[1:]))\n",
    "model.add(Activation(\"relu\")) ## to make it non-linear\n",
    "model.add(MaxPooling2D(pool_size=(2,2)))\n",
    "\n",
    "## Fully connected layer 1\n",
    "model.add(Flatten()) ##2D to 1D\n",
    "model.add(Dense(64))\n",
    "model.add(Activation(\"relu\"))\n"
   ]
  },
  {
   "cell_type": "code",
   "execution_count": 26,
   "id": "4e45f9cf",
   "metadata": {},
   "outputs": [],
   "source": [
    "## Fully connected layer 2\n",
    "model.add(Dense(32))\n",
    "model.add(Activation(\"relu\"))\n"
   ]
  },
  {
   "cell_type": "code",
   "execution_count": 27,
   "id": "6dd66628",
   "metadata": {},
   "outputs": [],
   "source": [
    "## Fully connected layer last \n",
    "model.add(Dense(10))\n",
    "model.add(Activation('softmax'))"
   ]
  },
  {
   "cell_type": "code",
   "execution_count": 28,
   "id": "fe6b1156",
   "metadata": {},
   "outputs": [
    {
     "name": "stdout",
     "output_type": "stream",
     "text": [
      "Model: \"sequential\"\n",
      "_________________________________________________________________\n",
      "Layer (type)                 Output Shape              Param #   \n",
      "=================================================================\n",
      "conv2d (Conv2D)              (None, 26, 26, 64)        640       \n",
      "_________________________________________________________________\n",
      "activation (Activation)      (None, 26, 26, 64)        0         \n",
      "_________________________________________________________________\n",
      "max_pooling2d (MaxPooling2D) (None, 13, 13, 64)        0         \n",
      "_________________________________________________________________\n",
      "flatten (Flatten)            (None, 10816)             0         \n",
      "_________________________________________________________________\n",
      "dense (Dense)                (None, 64)                692288    \n",
      "_________________________________________________________________\n",
      "activation_1 (Activation)    (None, 64)                0         \n",
      "_________________________________________________________________\n",
      "dense_1 (Dense)              (None, 32)                2080      \n",
      "_________________________________________________________________\n",
      "activation_2 (Activation)    (None, 32)                0         \n",
      "_________________________________________________________________\n",
      "dense_2 (Dense)              (None, 10)                330       \n",
      "_________________________________________________________________\n",
      "activation_3 (Activation)    (None, 10)                0         \n",
      "=================================================================\n",
      "Total params: 695,338\n",
      "Trainable params: 695,338\n",
      "Non-trainable params: 0\n",
      "_________________________________________________________________\n"
     ]
    }
   ],
   "source": [
    "model.summary()"
   ]
  },
  {
   "cell_type": "code",
   "execution_count": 29,
   "id": "42ec9830",
   "metadata": {},
   "outputs": [
    {
     "name": "stdout",
     "output_type": "stream",
     "text": [
      "Total training samples  60000\n"
     ]
    }
   ],
   "source": [
    " print(\"Total training samples \",len(a_trainer))"
   ]
  },
  {
   "cell_type": "code",
   "execution_count": 34,
   "id": "3b4378ec",
   "metadata": {},
   "outputs": [],
   "source": [
    "model.compile(loss=\"sparse_categorical_crossentropy\", optimizer=\"adam\", metrics=['accuracy'])"
   ]
  },
  {
   "cell_type": "markdown",
   "id": "9332a0f8",
   "metadata": {},
   "source": [
    "# Training my model"
   ]
  },
  {
   "cell_type": "code",
   "execution_count": 35,
   "id": "a7477a6f",
   "metadata": {},
   "outputs": [
    {
     "name": "stdout",
     "output_type": "stream",
     "text": [
      "Epoch 1/5\n",
      "1313/1313 [==============================] - 21s 16ms/step - loss: 0.2652 - accuracy: 0.9203 - val_loss: 0.1207 - val_accuracy: 0.9646\n",
      "Epoch 2/5\n",
      "1313/1313 [==============================] - 22s 16ms/step - loss: 0.0868 - accuracy: 0.9743 - val_loss: 0.0968 - val_accuracy: 0.9720\n",
      "Epoch 3/5\n",
      "1313/1313 [==============================] - 22s 17ms/step - loss: 0.0597 - accuracy: 0.9814 - val_loss: 0.0872 - val_accuracy: 0.9737\n",
      "Epoch 4/5\n",
      "1313/1313 [==============================] - 22s 17ms/step - loss: 0.0413 - accuracy: 0.9870 - val_loss: 0.0826 - val_accuracy: 0.9775\n",
      "Epoch 5/5\n",
      "1313/1313 [==============================] - 24s 18ms/step - loss: 0.0330 - accuracy: 0.9894 - val_loss: 0.0758 - val_accuracy: 0.9780\n"
     ]
    },
    {
     "data": {
      "text/plain": [
       "<tensorflow.python.keras.callbacks.History at 0x15977fffcd0>"
      ]
     },
     "execution_count": 35,
     "metadata": {},
     "output_type": "execute_result"
    }
   ],
   "source": [
    "model.fit(a_trainer,b_train,epochs=5,validation_split=0.3)"
   ]
  },
  {
   "cell_type": "markdown",
   "id": "5467d331",
   "metadata": {},
   "source": [
    "# Evaluating testing dataset"
   ]
  },
  {
   "cell_type": "code",
   "execution_count": 36,
   "id": "a5ae3996",
   "metadata": {},
   "outputs": [
    {
     "name": "stdout",
     "output_type": "stream",
     "text": [
      "313/313 [==============================] - 1s 4ms/step - loss: 0.0633 - accuracy: 0.9812\n",
      "Test loss  0.06331788003444672\n",
      "Validation accuracy 0.9811999797821045\n"
     ]
    }
   ],
   "source": [
    "test_loss, test_acc =model.evaluate(a_tester,b_test)\n",
    "print(\"Test loss \", test_loss)\n",
    "print(\"Validation accuracy\",test_acc)"
   ]
  },
  {
   "cell_type": "markdown",
   "id": "e83badde",
   "metadata": {},
   "source": [
    "### prediction"
   ]
  },
  {
   "cell_type": "code",
   "execution_count": 37,
   "id": "cbc22791",
   "metadata": {},
   "outputs": [
    {
     "name": "stdout",
     "output_type": "stream",
     "text": [
      "[[2.4723048e-08 6.6348398e-06 2.0132943e-06 ... 9.9999022e-01\n",
      "  9.4500386e-08 3.0323008e-07]\n",
      " [2.9738424e-06 4.2638793e-03 9.9566048e-01 ... 3.7853638e-06\n",
      "  1.2716491e-07 9.9844817e-07]\n",
      " [1.0113864e-09 9.9999690e-01 2.5781436e-08 ... 2.1207698e-06\n",
      "  4.2256779e-08 2.2063139e-08]\n",
      " ...\n",
      " [7.8732104e-11 9.5995041e-08 3.3479273e-09 ... 6.9840848e-07\n",
      "  5.1934212e-06 2.9290466e-06]\n",
      " [2.8824743e-09 7.3464554e-07 7.1925236e-08 ... 1.0311223e-08\n",
      "  5.4024631e-04 9.9423547e-10]\n",
      " [6.6828562e-07 5.9066533e-08 1.5975091e-07 ... 4.1376744e-08\n",
      "  5.1031709e-08 2.8273499e-07]]\n"
     ]
    }
   ],
   "source": [
    "prediction=model.predict([a_tester])\n",
    "print(prediction)"
   ]
  },
  {
   "cell_type": "code",
   "execution_count": 41,
   "id": "123ad4af",
   "metadata": {},
   "outputs": [
    {
     "name": "stdout",
     "output_type": "stream",
     "text": [
      "1\n"
     ]
    }
   ],
   "source": [
    "print (np.argmax(prediction[378]))"
   ]
  },
  {
   "cell_type": "code",
   "execution_count": 42,
   "id": "7b47fc5b",
   "metadata": {},
   "outputs": [
    {
     "data": {
      "text/plain": [
       "<matplotlib.image.AxesImage at 0x15950c0a190>"
      ]
     },
     "execution_count": 42,
     "metadata": {},
     "output_type": "execute_result"
    },
    {
     "data": {
      "image/png": "[encoded data removed]",
      "text/plain": [
       "<Figure size 432x288 with 1 Axes>"
      ]
     },
     "metadata": {
      "needs_background": "light"
     },
     "output_type": "display_data"
    }
   ],
   "source": [
    "plt.imshow(a_test[378])"
   ]
  },
  {
   "cell_type": "code",
   "execution_count": null,
   "id": "3cf749d8",
   "metadata": {},
   "outputs": [],
   "source": []
  }
 ],
 "metadata": {
  "kernelspec": {
   "display_name": "Python 3",
   "language": "python",
   "name": "python3"
  },
  "language_info": {
   "codemirror_mode": {
    "name": "ipython",
    "version": 3
   },
   "file_extension": ".py",
   "mimetype": "text/x-python",
   "name": "python",
   "nbconvert_exporter": "python",
   "pygments_lexer": "ipython3",
   "version": "3.8.8"
  }
 },
 "nbformat": 4,
 "nbformat_minor": 5
}
